{
 "cells": [
  {
   "cell_type": "code",
   "execution_count": 11,
   "id": "86c9b801-b09c-467f-9e93-5e499b2f4608",
   "metadata": {},
   "outputs": [],
   "source": [
    "from youtube_transcript_api import YouTubeTranscriptApi, TranscriptsDisabled"
   ]
  },
  {
   "cell_type": "code",
   "execution_count": 12,
   "id": "2fe9117e-0389-49f4-be65-d2fb45986541",
   "metadata": {},
   "outputs": [],
   "source": [
    "def generate_transcript(video_id):\n",
    "    try:\n",
    "        transcirpt = YouTubeTranscriptApi.get_transcript(video_id)\n",
    "        save_transcript_to_files(transcript, \"data/\" + video_id)\n",
    "    except TranscriptsDisabled:\n",
    "        return \"subtitles are disabled for this video\"\n",
    "    except Exception as e:\n",
    "        return e\n",
    "        \n",
    "    return transcript"
   ]
  },
  {
   "cell_type": "code",
   "execution_count": 14,
   "id": "0976a698-0698-451d-8e9f-00401f46f965",
   "metadata": {},
   "outputs": [
    {
     "data": {
      "text/plain": [
       "'subtitles are disabled for this video'"
      ]
     },
     "execution_count": 14,
     "metadata": {},
     "output_type": "execute_result"
    }
   ],
   "source": [
    "video = 'RR6xaYqKJ3o'\n",
    "generate_transcript(video)"
   ]
  },
  {
   "cell_type": "code",
   "execution_count": null,
   "id": "8f82cff0-eb66-4c9e-a1fc-d49cd9110511",
   "metadata": {},
   "outputs": [],
   "source": []
  }
 ],
 "metadata": {
  "kernelspec": {
   "display_name": "Python 3 (ipykernel)",
   "language": "python",
   "name": "python3"
  },
  "language_info": {
   "codemirror_mode": {
    "name": "ipython",
    "version": 3
   },
   "file_extension": ".py",
   "mimetype": "text/x-python",
   "name": "python",
   "nbconvert_exporter": "python",
   "pygments_lexer": "ipython3",
   "version": "3.12.1"
  }
 },
 "nbformat": 4,
 "nbformat_minor": 5
}
